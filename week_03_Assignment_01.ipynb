{
 "cells": [
  {
   "cell_type": "markdown",
   "id": "a6dba025-7459-4ab1-b53d-f8cee62ece0b",
   "metadata": {},
   "source": [
    "Q1. Which keyword is used to create a function? Create a function to return a list of odd numbers in the range of 1 to 25."
   ]
  },
  {
   "cell_type": "markdown",
   "id": "9d1050d9-d44a-405c-ac4e-b4dbff78d730",
   "metadata": {},
   "source": [
    "The keyword used to create a function is \"def\"."
   ]
  },
  {
   "cell_type": "code",
   "execution_count": 1,
   "id": "27dca374-8895-4faa-b89a-9690852db612",
   "metadata": {},
   "outputs": [
    {
     "name": "stdout",
     "output_type": "stream",
     "text": [
      "[1, 3, 5, 7, 9, 11, 13, 15, 17, 19, 21, 23]\n"
     ]
    }
   ],
   "source": [
    "def odd_numbers():\n",
    "    odd_nums = []\n",
    "    for num in range(1, 25):\n",
    "        if num % 2 != 0:\n",
    "            odd_nums.append(num)\n",
    "    return odd_nums\n",
    "\n",
    "\n",
    "result = odd_numbers()\n",
    "print(result)\n"
   ]
  },
  {
   "cell_type": "markdown",
   "id": "9c587d14-baf5-4502-b144-8c6746a46920",
   "metadata": {},
   "source": [
    "Q2. Why *args and **kwargs is used in some functions? Create a function each for *args and **kwargs to demonstrate their use."
   ]
  },
  {
   "cell_type": "markdown",
   "id": "62c2a3aa-c228-4675-b631-6f3c49f4a8aa",
   "metadata": {},
   "source": [
    "*args and **kwargs are special syntax in Python used for defining functions that can accept a variable number of arguments.\n",
    "\n",
    "1. \"*args\" (Arbitrary Argument List):\n",
    "*args allows you to pass a variable number of non-keyword (positional) arguments to a function.\n",
    "2. \"**kwargs\" (Keyword Argument Dictionary):\n",
    "**kwargs allows you to pass a variable number of keyword arguments to a function. You can think of **kwargs as a dictionary of keyword arguments, where the keys are the argument names, and the values are the corresponding values."
   ]
  },
  {
   "cell_type": "code",
   "execution_count": 2,
   "id": "1c89d7a1-ef6d-4190-9ce2-48137537c1ab",
   "metadata": {},
   "outputs": [
    {
     "name": "stdout",
     "output_type": "stream",
     "text": [
      "15\n"
     ]
    }
   ],
   "source": [
    "#*args\n",
    "\n",
    "def sum_all_numbers(*args):\n",
    "    result = 0\n",
    "    for num in args:\n",
    "        result += num\n",
    "    return result\n",
    "\n",
    "\n",
    "result = sum_all_numbers(1, 2, 3, 4, 5)\n",
    "print(result)  # Output: 15\n"
   ]
  },
  {
   "cell_type": "code",
   "execution_count": 3,
   "id": "235afdf8-6cf3-4258-83fd-565cc1d0c1d7",
   "metadata": {},
   "outputs": [
    {
     "name": "stdout",
     "output_type": "stream",
     "text": [
      "name: Alice\n",
      "age: 30\n",
      "city: New York\n"
     ]
    }
   ],
   "source": [
    "#**kwargs\n",
    "\n",
    "def display_info(**kwargs):\n",
    "    for key, value in kwargs.items():\n",
    "        print(f\"{key}: {value}\")\n",
    "\n",
    "# Example usage\n",
    "display_info(name=\"Alice\", age=30, city=\"New York\")\n"
   ]
  },
  {
   "cell_type": "markdown",
   "id": "e1ae6e06-19c4-4877-8691-070b367f88bb",
   "metadata": {},
   "source": [
    "Q3.  What is an iterator in python? Name the method used to initialise the iterator object and the method used for iteration. Use these methods to print the first five elements of the given list [2, 4, 6, 8, 10, 12, 14, 16, 18, 20]."
   ]
  },
  {
   "cell_type": "markdown",
   "id": "3d755b04-a302-4ee6-944b-b46a8a7ad50c",
   "metadata": {},
   "source": [
    "an iterator is an object that represents a stream of data and is used to iterate over elements in a container (like a list, tuple, or dictionary) one at a time. It provides two fundamental methods:\n",
    "\n",
    "1. \"iter()\":\n",
    "The iter() method is used to initialize an iterator object. It takes an iterable as an argument and returns an iterator for that iterable.\n",
    "\n",
    "2.  \"next()\":\n",
    "The next() method is used to iterate through the elements of the iterator one at a time. When you call next() on an iterator, it returns the next element from the iterator. If there are no more elements, it raises a StopIteration exception."
   ]
  },
  {
   "cell_type": "code",
   "execution_count": 4,
   "id": "d5e8b472-584e-4e02-934c-2f3c36961540",
   "metadata": {},
   "outputs": [
    {
     "name": "stdout",
     "output_type": "stream",
     "text": [
      "2\n",
      "4\n",
      "6\n",
      "8\n",
      "10\n"
     ]
    }
   ],
   "source": [
    "# Create an iterator for the list\n",
    "\n",
    "my_list = [2, 4, 6, 8, 10, 12, 14, 16, 18, 20]\n",
    "my_iterator = iter(my_list)\n",
    "\n",
    "# Use the iterator to print the first five elements\n",
    "for _ in range(5):\n",
    "    element = next(my_iterator)\n",
    "    print(element)\n"
   ]
  },
  {
   "cell_type": "markdown",
   "id": "b33cda08-c416-4413-b984-efe520fb212b",
   "metadata": {},
   "source": [
    "Q4. What is a generator function in python? Why yield keyword is used? Give an example of a generator function."
   ]
  },
  {
   "cell_type": "markdown",
   "id": "caef4c0d-9551-45e4-9111-d84a757b76f3",
   "metadata": {
    "tags": []
   },
   "source": [
    "What is a generator function in python?\n",
    " \n",
    "A generator function in Python uses yield to produce values lazily, enabling memory-efficient iteration over large or infinite sequences."
   ]
  },
  {
   "cell_type": "markdown",
   "id": "fca141df-cfd8-41a3-a23e-2218885a68c2",
   "metadata": {},
   "source": [
    "Why yield keyword is used?\n",
    "\n",
    "The yield keyword is used in Python to create generator functions that produce values lazily, conserving memory and allowing efficient iteration over large or infinite sequences."
   ]
  },
  {
   "cell_type": "code",
   "execution_count": 5,
   "id": "3309737b-d2f4-45ae-93e1-5dee49900da5",
   "metadata": {},
   "outputs": [
    {
     "name": "stdout",
     "output_type": "stream",
     "text": [
      "0\n",
      "1\n",
      "1\n",
      "2\n",
      "3\n",
      "5\n",
      "8\n",
      "13\n",
      "21\n",
      "34\n"
     ]
    }
   ],
   "source": [
    "def fibonacci_generator():\n",
    "    a, b = 0, 1\n",
    "    while True:\n",
    "        yield a\n",
    "        a, b = b, a + b\n",
    "\n",
    "# Create a Fibonacci generator\n",
    "fibonacci = fibonacci_generator()\n",
    "\n",
    "# Print the first 10 Fibonacci numbers\n",
    "for _ in range(10):\n",
    "    print(next(fibonacci))\n"
   ]
  },
  {
   "cell_type": "markdown",
   "id": "c66f4f4f-3a50-4169-a5ad-a36b72f74013",
   "metadata": {},
   "source": [
    "Q5. Create a generator function for prime numbers less than 1000. Use the next() method to print the first 20 prime numbers."
   ]
  },
  {
   "cell_type": "code",
   "execution_count": 6,
   "id": "d26689fb-401c-49ca-88ef-bc9cb1dee49b",
   "metadata": {},
   "outputs": [
    {
     "name": "stdout",
     "output_type": "stream",
     "text": [
      "2\n",
      "3\n",
      "5\n",
      "7\n",
      "11\n",
      "13\n",
      "17\n",
      "19\n",
      "23\n",
      "29\n",
      "31\n",
      "37\n",
      "41\n",
      "43\n",
      "47\n",
      "53\n",
      "59\n",
      "61\n",
      "67\n",
      "71\n"
     ]
    }
   ],
   "source": [
    "def is_prime(num):\n",
    "    if num <= 1:\n",
    "        return False\n",
    "    if num <= 3:\n",
    "        return True\n",
    "    if num % 2 == 0 or num % 3 == 0:\n",
    "        return False\n",
    "    i = 5\n",
    "    while i * i <= num:\n",
    "        if num % i == 0 or num % (i + 2) == 0:\n",
    "            return False\n",
    "        i += 6\n",
    "    return True\n",
    "\n",
    "def prime_generator():\n",
    "    num = 2\n",
    "    while num < 1000:\n",
    "        if is_prime(num):\n",
    "            yield num\n",
    "        num += 1\n",
    "\n",
    "# Create a prime number generator\n",
    "prime_gen = prime_generator()\n",
    "\n",
    "# Print the first 20 prime numbers\n",
    "for _ in range(20):\n",
    "    print(next(prime_gen))\n"
   ]
  },
  {
   "cell_type": "markdown",
   "id": "dd15e2eb-022a-40cf-98ff-951915972250",
   "metadata": {},
   "source": [
    "Q6. Write a python program to print the first 10 Fibonacci numbers using a while loop."
   ]
  },
  {
   "cell_type": "code",
   "execution_count": 7,
   "id": "a3fd99a9-f71f-4529-9388-018ee0b3eb70",
   "metadata": {},
   "outputs": [
    {
     "name": "stdout",
     "output_type": "stream",
     "text": [
      "0\n",
      "1\n",
      "1\n",
      "2\n",
      "3\n",
      "5\n",
      "8\n",
      "13\n",
      "21\n",
      "34\n"
     ]
    }
   ],
   "source": [
    "# Initialize the first two Fibonacci numbers\n",
    "a, b = 0, 1\n",
    "\n",
    "# Initialize a counter for the number of Fibonacci numbers printed\n",
    "count = 0\n",
    "\n",
    "# Print the first 10 Fibonacci numbers using a while loop\n",
    "while count < 10:\n",
    "    print(a)\n",
    "\n",
    "    # Calculate the next Fibonacci number\n",
    "    a, b = b, a + b\n",
    "\n",
    "    # Increment the counter\n",
    "    count += 1\n"
   ]
  },
  {
   "cell_type": "markdown",
   "id": "daa1838e-4add-4629-bcc6-1b65116c4615",
   "metadata": {},
   "source": [
    "Q7. Write a List Comprehension to iterate through the given string: ‘pwskills’. Expected output: ['p', 'w', 's', 'k', 'i', 'l', 'l', 's']"
   ]
  },
  {
   "cell_type": "code",
   "execution_count": 8,
   "id": "07a4c66f-925a-46ae-9023-9469c9a8bb08",
   "metadata": {},
   "outputs": [
    {
     "name": "stdout",
     "output_type": "stream",
     "text": [
      "['p', 'w', 's', 'k', 'i', 'l', 'l', 's']\n"
     ]
    }
   ],
   "source": [
    "input_string = 'pwskills'\n",
    "output_list = [char for char in input_string]\n",
    "print(output_list)\n"
   ]
  },
  {
   "cell_type": "markdown",
   "id": "b719435f-3127-4ff7-be43-9ec3ba2a2cb7",
   "metadata": {},
   "source": [
    "Q8. Write a python program to check whether a given number is Palindrome or not using a while loop."
   ]
  },
  {
   "cell_type": "code",
   "execution_count": 11,
   "id": "da260303-c4c0-4830-bbef-6a4211c5a109",
   "metadata": {},
   "outputs": [
    {
     "name": "stdin",
     "output_type": "stream",
     "text": [
      "Enter a number:  153\n"
     ]
    },
    {
     "name": "stdout",
     "output_type": "stream",
     "text": [
      "153 is not a palindrome.\n"
     ]
    }
   ],
   "source": [
    "def is_palindrome(number):\n",
    "    # Convert the number to a string\n",
    "    num_str = str(number)\n",
    "\n",
    "    # Initialize pointers for the first and last characters of the string\n",
    "    left, right = 0, len(num_str) - 1\n",
    "\n",
    "    # Check each pair of characters from the outer ends towards the center\n",
    "    while left < right:\n",
    "        if num_str[left] != num_str[right]:\n",
    "            return False\n",
    "        left += 1\n",
    "        right -= 1\n",
    "\n",
    "    return True\n",
    "\n",
    "# Input a number from the user\n",
    "num = int(input(\"Enter a number: \"))\n",
    "\n",
    "# Check if it's a palindrome\n",
    "if is_palindrome(num):\n",
    "    print(f\"{num} is a palindrome.\")\n",
    "else:\n",
    "    print(f\"{num} is not a palindrome.\")\n"
   ]
  },
  {
   "cell_type": "markdown",
   "id": "5528af98-fa85-45fd-a4ec-82031c9663a0",
   "metadata": {},
   "source": [
    "Q9. Write a code to print odd numbers from 1 to 100 using list comprehension."
   ]
  },
  {
   "cell_type": "code",
   "execution_count": 10,
   "id": "04770e53-76d2-498d-8de9-b291351c5034",
   "metadata": {},
   "outputs": [
    {
     "name": "stdout",
     "output_type": "stream",
     "text": [
      "[1, 3, 5, 7, 9, 11, 13, 15, 17, 19, 21, 23, 25, 27, 29, 31, 33, 35, 37, 39, 41, 43, 45, 47, 49, 51, 53, 55, 57, 59, 61, 63, 65, 67, 69, 71, 73, 75, 77, 79, 81, 83, 85, 87, 89, 91, 93, 95, 97, 99]\n"
     ]
    }
   ],
   "source": [
    "odd_numbers = [num for num in range(1, 101) if num % 2 != 0]\n",
    "\n",
    "# Print the list of odd numbers\n",
    "print(odd_numbers)\n"
   ]
  }
 ],
 "metadata": {
  "kernelspec": {
   "display_name": "Python 3 (ipykernel)",
   "language": "python",
   "name": "python3"
  },
  "language_info": {
   "codemirror_mode": {
    "name": "ipython",
    "version": 3
   },
   "file_extension": ".py",
   "mimetype": "text/x-python",
   "name": "python",
   "nbconvert_exporter": "python",
   "pygments_lexer": "ipython3",
   "version": "3.10.8"
  }
 },
 "nbformat": 4,
 "nbformat_minor": 5
}
