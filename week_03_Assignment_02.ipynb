{
 "cells": [
  {
   "cell_type": "markdown",
   "id": "4ffc4879-a83e-4461-b342-ce3bec264a8c",
   "metadata": {},
   "source": [
    "Q1. Create a python program to sort the given list of tuples based on integer value using a lambda function."
   ]
  },
  {
   "cell_type": "code",
   "execution_count": 1,
   "id": "b7ad521c-b988-4361-b23c-999ca8e18cad",
   "metadata": {},
   "outputs": [
    {
     "name": "stdout",
     "output_type": "stream",
     "text": [
      "('Virat Kohli', 24936)\n",
      "('Jack Kallis', 25534)\n",
      "('Ricky Ponting', 27483)\n",
      "('Sachin Tendulkar', 34357)\n"
     ]
    }
   ],
   "source": [
    "data = [('Sachin Tendulkar', 34357), ('Ricky Ponting', 27483), ('Jack Kallis', 25534), ('Virat Kohli', 24936)]\n",
    "\n",
    "# Sort the list of tuples based on the integer value\n",
    "sorted_data = sorted(data, key=lambda x: x[1])\n",
    "\n",
    "# Print the sorted list\n",
    "for item in sorted_data:\n",
    "    print(item)\n"
   ]
  },
  {
   "cell_type": "markdown",
   "id": "9daaacda-428e-4fe7-8277-3685d071d6a1",
   "metadata": {},
   "source": [
    "Q2. Write a Python Program to find the squares of all the numbers in the given list of integers using lambda and map functions."
   ]
  },
  {
   "cell_type": "code",
   "execution_count": 2,
   "id": "c5552c41-0ee1-4cce-8811-c03e4ca9df96",
   "metadata": {},
   "outputs": [
    {
     "name": "stdout",
     "output_type": "stream",
     "text": [
      "[1, 4, 9, 16, 25, 36, 49, 64, 81, 100]\n"
     ]
    }
   ],
   "source": [
    "numbers = [1, 2, 3, 4, 5, 6, 7, 8, 9, 10]\n",
    "\n",
    "# Use map and lambda to find squares\n",
    "squares = list(map(lambda x: x**2, numbers))\n",
    "\n",
    "# Print the list of squares\n",
    "print(squares)\n"
   ]
  },
  {
   "cell_type": "markdown",
   "id": "9c943e07-ab77-48f2-a6ad-b019098014ee",
   "metadata": {},
   "source": [
    "Q3. Write a python program to convert the given list of integers into a tuple of strings. Use map and lambda functions"
   ]
  },
  {
   "cell_type": "code",
   "execution_count": 3,
   "id": "708b45e7-cd6b-4610-b4c1-41180c6da3de",
   "metadata": {},
   "outputs": [
    {
     "name": "stdout",
     "output_type": "stream",
     "text": [
      "('1', '2', '3', '4', '5', '6', '7', '8', '9', '10')\n"
     ]
    }
   ],
   "source": [
    "numbers = [1, 2, 3, 4, 5, 6, 7, 8, 9, 10]\n",
    "\n",
    "# Use map and lambda to convert integers to strings\n",
    "tuple_of_strings = tuple(map(lambda x: str(x), numbers))\n",
    "\n",
    "# Print the tuple of strings\n",
    "print(tuple_of_strings)\n"
   ]
  },
  {
   "cell_type": "markdown",
   "id": "cc906e27-b09b-415d-82cb-0e76b45283d0",
   "metadata": {},
   "source": [
    "Q4. Write a python program using reduce function to compute the product of a list containing numbers from 1 to 25."
   ]
  },
  {
   "cell_type": "code",
   "execution_count": 4,
   "id": "d52a3253-4fb0-40ad-85bc-5d1dc4d725e2",
   "metadata": {},
   "outputs": [
    {
     "name": "stdout",
     "output_type": "stream",
     "text": [
      "15511210043330985984000000\n"
     ]
    }
   ],
   "source": [
    "from functools import reduce\n",
    "\n",
    "# Create a list of numbers from 1 to 25\n",
    "numbers = list(range(1, 26))\n",
    "\n",
    "# Use reduce to compute the product\n",
    "product = reduce(lambda x, y: x * y, numbers)\n",
    "\n",
    "# Print the product\n",
    "print(product)\n"
   ]
  },
  {
   "cell_type": "markdown",
   "id": "7a7b0c92-6ae8-4134-b81d-b63c09669683",
   "metadata": {},
   "source": [
    "Q5. Write a python program to filter the numbers in a given list that are divisible by 2 and 3 using the filter function."
   ]
  },
  {
   "cell_type": "code",
   "execution_count": 5,
   "id": "70ce7472-ce92-47b5-b2e8-4b3fefd8ab11",
   "metadata": {},
   "outputs": [
    {
     "name": "stdout",
     "output_type": "stream",
     "text": [
      "[6, 60, 90, 120]\n"
     ]
    }
   ],
   "source": [
    "numbers = [2, 3, 6, 9, 27, 60, 90, 120, 55, 46]\n",
    "\n",
    "# Use filter and lambda to select numbers divisible by 2 and 3\n",
    "filtered_numbers = list(filter(lambda x: x % 2 == 0 and x % 3 == 0, numbers))\n",
    "\n",
    "# Print the filtered numbers\n",
    "print(filtered_numbers)\n"
   ]
  },
  {
   "cell_type": "markdown",
   "id": "2633e9fb-912c-47c4-8223-4bef36587394",
   "metadata": {},
   "source": [
    "Q6. Write a python program to find palindromes in the given list of strings using lambda and filter function."
   ]
  },
  {
   "cell_type": "code",
   "execution_count": 6,
   "id": "7177b5c6-9266-40c1-bcfb-2298b5f8aab9",
   "metadata": {},
   "outputs": [
    {
     "name": "stdout",
     "output_type": "stream",
     "text": [
      "['php', 'aba', 'radar', 'level']\n"
     ]
    }
   ],
   "source": [
    "strings = ['python', 'php', 'aba', 'radar', 'level']\n",
    "\n",
    "# Use filter and lambda to select palindromes\n",
    "palindromes = list(filter(lambda x: x == x[::-1], strings))\n",
    "\n",
    "# Print the palindromes\n",
    "print(palindromes)\n"
   ]
  },
  {
   "cell_type": "code",
   "execution_count": null,
   "id": "2f0d79a1-fba0-4d2d-b154-4d08dc202db0",
   "metadata": {},
   "outputs": [],
   "source": []
  }
 ],
 "metadata": {
  "kernelspec": {
   "display_name": "Python 3 (ipykernel)",
   "language": "python",
   "name": "python3"
  },
  "language_info": {
   "codemirror_mode": {
    "name": "ipython",
    "version": 3
   },
   "file_extension": ".py",
   "mimetype": "text/x-python",
   "name": "python",
   "nbconvert_exporter": "python",
   "pygments_lexer": "ipython3",
   "version": "3.10.8"
  }
 },
 "nbformat": 4,
 "nbformat_minor": 5
}
